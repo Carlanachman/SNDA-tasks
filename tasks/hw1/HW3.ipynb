{
  "cells": [
    {
      "cell_type": "markdown",
      "metadata": {
        "id": "ktbVT05MQ56b"
      },
      "source": [
        "### IDs:\n",
        "Insert yours IDs to the cell below"
      ]
    },
    {
      "cell_type": "markdown",
      "metadata": {
        "id": "-TGC998lQ56d"
      },
      "source": [
        "ID #1:\n",
        "\n",
        "ID #2:\n"
      ]
    },
    {
      "cell_type": "markdown",
      "metadata": {
        "id": "JCleYYklQ56d"
      },
      "source": [
        "## Read the following instructions carefully:\n",
        "\n",
        "1. This jupyter notebook contains all the step by step instructions needed for this exercise.\n",
        "1. You are free to add cells.\n",
        "1. Write your functions and your answers in this jupyter notebook only.\n",
        "1. Answers to theoretical questions should be written in **markdown cells (with $\\LaTeX$ support)**.\n",
        "1. Submit this jupyter notebook only using your ID as a filename. Not to use ZIP or RAR. For example, your Moodle submission file name should look like this (two id numbers): `123456789_987654321.ipynb`."
      ]
    },
    {
      "cell_type": "markdown",
      "metadata": {
        "id": "vPB4G5EXQ56d"
      },
      "source": [
        "### Question 1 - Correlations (14 points)"
      ]
    },
    {
      "cell_type": "markdown",
      "metadata": {
        "id": "XPpGdWilQ56e"
      },
      "source": [
        "Provide example datapoints matching the following descriptions. Each example should be constructed over n=50 datapoints. Provide a table description of the example data as well as a jointplot (see example below).\n",
        "If you think that the situation described is impossible then clearly explain why (you don’t need to give a rigorous proof).<br>\n",
        "Pearson(x,y) = Pearson correlation<br>\n",
        "τ(x,y) = Kendall rank correlation<br>\n",
        "ρ(x,y) = Spearman rank correlation <br>\n",
        "<img src=\"jointplot.png\">"
      ]
    },
    {
      "cell_type": "code",
      "source": [
        "import numpy as np\n",
        "import pandas as pd\n",
        "import seaborn as sns\n",
        "import matplotlib.pyplot as plt\n",
        "from scipy import stats\n",
        "from scipy.stats import uniform"
      ],
      "metadata": {
        "id": "BKj-BihGhIQZ"
      },
      "execution_count": 48,
      "outputs": []
    },
    {
      "cell_type": "markdown",
      "metadata": {
        "id": "aLu-7jk9Q56e"
      },
      "source": [
        "#### 1.A\n",
        "Data in which  $Pearson(x,y) < -0.9$ but where $n-1$ points can be selected so that for the vectors restricted to those we have $Pearson(x_{n-1},y_{n-1}) > 0.9$"
      ]
    },
    {
      "cell_type": "code",
      "source": [
        "# Set random seed for reproducibility\n",
        "np.random.seed(42)\n",
        "\n",
        "# Generate base data with strong positive correlation (49 points)\n",
        "n = 49\n",
        "x_base = np.linspace(0, 5, n)  # Reduced range to make base points more clustered\n",
        "noise = np.random.normal(0, 0.2, n)  # Further reduced noise\n",
        "y_base = x_base + noise\n",
        "\n",
        "# Scale the base points to be smaller\n",
        "x_base = x_base * 0.5\n",
        "y_base = y_base * 0.5\n",
        "\n",
        "# Create the outlier point - making it much more extreme\n",
        "x_outlier = np.array([100])  # Much more extreme x value\n",
        "y_outlier = np.array([-100])  # Much more extreme y value\n",
        "\n",
        "# Combine base data and outlier\n",
        "x = np.concatenate([x_base, x_outlier])\n",
        "y = np.concatenate([y_base, y_outlier])\n",
        "\n",
        "# Create DataFrame for easier plotting\n",
        "df = pd.DataFrame({\n",
        "    'x': x,\n",
        "    'y': y\n",
        "})\n",
        "\n",
        "# Calculate correlations\n",
        "pearson_all = stats.pearsonr(x, y)[0]\n",
        "pearson_base = stats.pearsonr(x_base, y_base)[0]\n",
        "\n",
        "# Create the plot\n",
        "plt.figure(figsize=(12, 6))\n",
        "\n",
        "# Create two subplots\n",
        "plt.subplot(1, 2, 1)\n",
        "sns.scatterplot(data=df, x='x', y='y')\n",
        "plt.title(f'All Points\\nPearson Correlation: {pearson_all:.3f}')\n",
        "plt.xlabel('X')\n",
        "plt.ylabel('Y')\n",
        "\n",
        "plt.subplot(1, 2, 2)\n",
        "sns.scatterplot(data=df.iloc[:-1], x='x', y='y')\n",
        "plt.title(f'Without Outlier\\nPearson Correlation: {pearson_base:.3f}')\n",
        "plt.xlabel('X')\n",
        "plt.ylabel('Y')\n",
        "\n",
        "plt.tight_layout()\n",
        "\n",
        "# Print numerical results\n",
        "print(f\"Number of points: {len(x)}\")\n",
        "print(f\"Pearson correlation (all points): {pearson_all:.3f}\")\n",
        "print(f\"Pearson correlation (without outlier): {pearson_base:.3f}\")\n",
        "\n",
        "# Optional: Save the data\n",
        "np.savetxt('correlation_data.csv', np.column_stack((x, y)), delimiter=',', header='x,y', comments='')"
      ],
      "metadata": {
        "colab": {
          "base_uri": "https://localhost:8080/",
          "height": 586
        },
        "id": "ZZqta49vwM4K",
        "outputId": "f803c396-1e9e-4999-a82e-95b370f3ae56"
      },
      "execution_count": 32,
      "outputs": [
        {
          "output_type": "stream",
          "name": "stdout",
          "text": [
            "Number of points: 50\n",
            "Pearson correlation (all points): -0.995\n",
            "Pearson correlation (without outlier): 0.992\n"
          ]
        },
        {
          "output_type": "display_data",
          "data": {
            "text/plain": [
              "<Figure size 1200x600 with 2 Axes>"
            ],
            "image/png": "[encoded data removed]"
          },
          "metadata": {}
        }
      ]
    },
    {
      "cell_type": "markdown",
      "metadata": {
        "id": "9ZqCjgu_Q56e"
      },
      "source": [
        "#### 1.B\n",
        "Data in which  $\\rho(x,y) = 1$ but where $n-1$ points can be selected so that for the vectors restricted to those we have $\\rho(x_{n-1},y_{n-1}) < 0.9$"
      ]
    },
    {
      "cell_type": "code",
      "source": [
        "'''\n",
        "If we have ρ = 1 for all points, this means:\n",
        "\n",
        "The ranks of x and y must form a perfect monotonic relationship\n",
        "Each point have to maintain its relative position in both x and y rankings\n",
        "\n",
        "Now, if we remove one point and want ρ < 0.9, this means:\n",
        "  The remaining points must significantly deviate from a perfect monotonic relationship\n",
        "  Removing this one point must change the relative ordering of the remaining points\n",
        "\n",
        "However, there's a contradiction here:\n",
        "If we have a perfect rank correlation (ρ = 1) with all points:\n",
        "  For any point i: if xi < xj then yi < yj\n",
        "  This ordering must be true for ALL pairs of points\n",
        "\n",
        "When we remove one point:\n",
        "  The relative ordering of all remaining pairs must stay the same\n",
        "  Removing a point cannot change whether yi < yj for any others pair of points\n",
        "  The ranks might shift by 1, due to the removal, but their relative order cannot change\n",
        "\n",
        "Therefore, this is then impossible.\n",
        "If we have ρ = 1 with all points,\n",
        "removing any single point cannot change the Spearman correlation to less than 1,\n",
        "because the relative ordering of all remaining pairs stays the same.\n",
        "\n",
        "'''"
      ],
      "metadata": {
        "id": "RkauCWYonkLw"
      },
      "execution_count": null,
      "outputs": []
    },
    {
      "cell_type": "markdown",
      "metadata": {
        "id": "U7_sZP7vQ56f"
      },
      "source": [
        "#### 1.C\n",
        "Data with τ(x,y) > ρ(x,y) + 0.45"
      ]
    },
    {
      "cell_type": "code",
      "source": [
        "'''\n",
        "It's impossible to have τ(x,y) > ρ(x,y) + 0.45\n",
        "                    <=> τ(x,y) - ρ(x,y) > 0.45\n",
        "\n",
        "Kendall's tau (τ) and Spearman's rho (ρ) are both rank correlation measures\n",
        "The two measures are between [-1, 1]\n",
        "\n",
        "Spearman's correlation is the Pearson correlation of the ranked data,\n",
        "while Kendall's tau is based on the number of concordant and discordant pairs.\n",
        "In general, |τ(x, y)| ≤ |ρ(x, y)|\n",
        "\n",
        "Therefore, the maximum difference between them will be 0.\n",
        "\n",
        "Let's consider the case when ρ = 1, the maximum possible value.\n",
        "τ will be equal to or less than 1, thus the difference will be 0.\n",
        "\n",
        "=> For any possible value of ρ, τ will be equal or less, therefore this inequality cannot be satisfied.\n",
        "\n",
        "\n",
        "The maximum possible value of the difference is 1 - (-1) = 0\n",
        "No matter the configuration of the data,\n",
        "it is impossible to find a dataset where the difference between the two is larger than 0.45\n",
        "'''"
      ],
      "metadata": {
        "colab": {
          "base_uri": "https://localhost:8080/",
          "height": 160
        },
        "collapsed": true,
        "id": "m3GNM39biVdL",
        "outputId": "1e21125a-2b9e-49ad-ecac-c7e8da7c8273"
      },
      "execution_count": 8,
      "outputs": [
        {
          "output_type": "execute_result",
          "data": {
            "text/plain": [
              "\"\\nIt's impossible to have τ(x,y) > ρ(x,y) + 0.45\\n                    <=> τ(x,y) - ρ(x,y) > 0.45\\n\\nKendall's tau (τ) and Spearman's rho (ρ) are both rank correlation measures\\nThe two measures are between [-1, 1]\\n\\nSpearman's correlation is the Pearson correlation of the ranked data, \\nwhile Kendall's tau is based on the number of concordant and discordant pairs.\\nIn general, |τ(x, y)| ≤ |ρ(x, y)|\\n\\nTherefore, the maximum difference between them will be 0. \\n\\nLet's consider the case when ρ = 1, the maximum possible value.\\nτ will be equal to or less than 1, thus the difference will be 0.\\n\\n=> For any possible value of ρ, τ will be equal or less, therefore this inequality cannot be satisfied.\\n\\n\\nThe maximum possible value of the difference is 1 - (-1) = 0\\nNo matter the configuration of the data, \\nit is impossible to find a dataset where the difference between the two is larger than 0.45\\n\\n\""
            ],
            "application/vnd.google.colaboratory.intrinsic+json": {
              "type": "string"
            }
          },
          "metadata": {},
          "execution_count": 8
        }
      ]
    },
    {
      "cell_type": "code",
      "execution_count": null,
      "metadata": {
        "id": "xGw8eFxKQ56f"
      },
      "outputs": [],
      "source": [
        "'''\n",
        "WITH FORMULA\n",
        "This is mathematically impossible due to the following relationship between Kendall's tau (τ) and Spearman's rho (ρ):\n",
        "For any dataset, these correlation coefficients are bound by the inequality:\n",
        "3τ - 2ρ ≤ 1\n",
        "\n",
        "This can be rearranged to:\n",
        "τ ≤ (2ρ + 1)/3\n",
        "Therefore:\n",
        "τ - ρ ≤ (2ρ + 1)/3 - ρ\n",
        "= (2ρ + 1 - 3ρ)/3\n",
        "= (1 - ρ)/3\n",
        "≤ 1/3 (since ρ ≥ -1)\n",
        "This means that τ can never exceed ρ by more than 1/3 (approximately 0.333).\n",
        "Your requirement that τ(x,y) > ρ(x,y) + 0.45 would violate this mathematical bound, as 0.45 > 1/3.\n",
        "\n",
        "'''"
      ]
    },
    {
      "cell_type": "code",
      "source": [
        "'''\n",
        "If τ=1, then all apirs are perfectly concordant.\n",
        "  Then ρ=1, because there is no discordance or discrepancy.\n",
        "\n",
        "If τ<1, to have τ>ρ+0.45, we should have ρ very small (close to 0)\n",
        "  But if the rank differences increase and then decrease ρ,\n",
        "  this means that the pairs become less concordant, which also reduces τ\n",
        "  => τ and ρ are strongly structurally linked: any decrease in concordance affects both simultaneously.\n",
        "\n",
        "τ>ρ+0.45 is then impossible\n",
        "'''"
      ],
      "metadata": {
        "id": "11j76zVcqrup"
      },
      "execution_count": null,
      "outputs": []
    },
    {
      "cell_type": "markdown",
      "metadata": {
        "id": "L66djilLQ56f"
      },
      "source": [
        "#### 1.D\n",
        "Data with τ(x,y) < ρ(x,y) – 0.45"
      ]
    },
    {
      "cell_type": "code",
      "source": [
        "\n",
        "'''\n",
        "It's impossible to have τ(x,y) < ρ(x,y) – 0.45\n",
        "                    <=> τ(x,y) - ρ(x,y) < -0.45\n",
        "\n",
        "Kendall's tau (τ) and Spearman's rho (ρ) are both rank correlation measures.\n",
        "Both measures lie in the range [-1, 1].\n",
        "\n",
        "The relationship between Kendall's tau and Spearman's rho is given by:\n",
        "\n",
        "-1 ≤ τ ≤ ρ ≤ 1\n",
        "\n",
        "Therefore, the maximum possible difference between τ and ρ is 0.\n",
        "\n",
        "τ(x,y) - ρ(x,y) < -0.45 is impossible.\n",
        "\n",
        "\n",
        "The maximum possible value of the difference is 1 - (-1) = 0\n",
        "\n",
        "No matter the configuration of the data,\n",
        "it is impossible to find a dataset where the difference between the two is less than -0.45\n",
        "\n",
        "'''"
      ],
      "metadata": {
        "id": "WmL83rYFrYOp"
      },
      "execution_count": null,
      "outputs": []
    },
    {
      "cell_type": "markdown",
      "metadata": {
        "id": "k-H5pw4vQ56f"
      },
      "source": [
        "#### 1.E\n",
        "Data with Pearson(x,y) < ρ(x,y) – 0.6"
      ]
    },
    {
      "cell_type": "code",
      "source": [],
      "metadata": {
        "colab": {
          "base_uri": "https://localhost:8080/"
        },
        "id": "Sio3O-fdr6Tx",
        "outputId": "82a04f2f-8363-4964-d76a-53bdad745c64"
      },
      "execution_count": 17,
      "outputs": [
        {
          "output_type": "stream",
          "name": "stdout",
          "text": [
            "Pearson Correlation: -0.136\n",
            "Spearman Correlation: -0.104\n",
            "Difference: -0.032\n",
            "Condition not met. Try adjusting noise or non-linearity.\n"
          ]
        }
      ]
    },
    {
      "cell_type": "markdown",
      "metadata": {
        "id": "R6dc5zCLQ56f"
      },
      "source": [
        "#### 1.F\n",
        "Data with Pearson(x,y) > ρ(x,y) + 1.2"
      ]
    },
    {
      "cell_type": "markdown",
      "metadata": {
        "id": "RIJ5x4y0Q56f"
      },
      "source": [
        "#### 1.G\n",
        "Data with τ(x,y) < ρ(x,y) – 1.2"
      ]
    },
    {
      "cell_type": "code",
      "execution_count": null,
      "metadata": {
        "id": "Jth3WlO9Q56f"
      },
      "outputs": [],
      "source": [
        "'''\n",
        "Both Kendall's tau (τ) and Spearman's rho (ρ) are bounded by [-1, 1], and they are related by several inequalities:\n",
        "\n",
        "From Daniels (1944), we know that:\n",
        "ρ ≤ 3τ <=> τ ≥ ρ/3\n",
        "τ(x,y) < ρ(x,y) - 1.2 would mean: τ < ρ - 1.2\n",
        "\n",
        "Therefore:\n",
        "ρ/3 ≤ τ < ρ - 1.2\n",
        "\n",
        "This means:\n",
        "ρ/3 < ρ - 1.2\n",
        "-2ρ/3 < -1.2\n",
        "ρ > 1.8\n",
        "\n",
        "However, since ρ is bounded by [-1, 1], it's impossible to have ρ > 1.8\n",
        "'''"
      ]
    },
    {
      "cell_type": "markdown",
      "metadata": {
        "id": "U_bDnsmNQ56f"
      },
      "source": [
        "### Question 2 - Analysis of the UCI Heart Disease dataset  (38 points)"
      ]
    },
    {
      "cell_type": "markdown",
      "metadata": {
        "id": "L7Ny2YQXQ56f"
      },
      "source": [
        "Perform data analysis on the UCI Heart Disease Dataset\n",
        "References:\n",
        "1. Detrano, R., Janosi, A., Steinbrunn, W., Pfisterer, M., Schmid, J., Sandhu, S., Guppy, K., Lee, S., & Froelicher, V. (1989). International application of a new probability algorithm for the diagnosis of coronary artery disease. American Journal of Cardiology, 64,304--310.\n",
        "2. David W. Aha & Dennis Kibler. \"Instance-based prediction of heart-disease presence with the Cleveland database.\"\n",
        "3. Gennari, J.H., Langley, P, & Fisher, D. (1989). Models of incremental concept formation. Artificial Intelligence, 40, 11--61.\n",
        "\n",
        "Use the following links to find the details of the data:\n",
        "1. https://archive.ics.uci.edu/ml/datasets/heart+disease\n",
        "2. https://www.kaggle.com/ronitf/heart-disease-uci\n",
        "\n",
        "In the follwong cells write a report for your analysis. In your report provide a clear description of the analysis methods and of the results. This should include a graphical representation of the results and the conclusions. Provide p-values or other indicators of the statistical significance where appropriate. <br>\n",
        "Design your report to be concise but still cover interesting findings.\n",
        "\n",
        "There are missing values in the data. Find them and impute them by using the median (for numerical features) or the mode (for categorical features) value of the relevant feature (column).\n",
        "Address the following questions:\n",
        "* Using confidence intervals determine for which numerical features you can state with confidence of 95% that the healthy population (target = 0) mean is larger/smaller than the disease population (target = 1) mean.\n",
        "* Draw histograms for each numerical feature. Inspect the observed distributions and then use MLE to plot, on the same figures, fits of the distributions.\n",
        "* For each pair of numerical feature, calculate correlations and indicate whether you find them significant. For select pairs, with significant correlations, draw joint plot with marginal histograms (see Seaborn joint plot) and find bivariate normal fits. Then use the example code below to draw plots of the bivariate pdfs (you may edit the code as you see fit).\n",
        "* Are there pairs that are significantly correlated in males but not in females? The opposite? How about healthy vs disease? Can you graphically represent this?\n",
        "* For each numerical feature, except age, plot the distribution for this feature against bins of age. In each bin provide a split violin plot, with different colors for healthy and disease.\n",
        "\n",
        "Suggest, state and address at least one original question.\n"
      ]
    },
    {
      "cell_type": "code",
      "execution_count": null,
      "metadata": {
        "id": "CB-P2yCsQ56g",
        "outputId": "284d282e-0c2d-466e-c914-d18a01a742a1"
      },
      "outputs": [
        {
          "data": {
            "image/png": "[encoded data removed]",
            "text/plain": [
              "<Figure size 432x288 with 1 Axes>"
            ]
          },
          "metadata": {
            "needs_background": "light"
          },
          "output_type": "display_data"
        }
      ],
      "source": [
        "# Example code for bivariate pdfs\n",
        "from scipy.stats import multivariate_normal as mn\n",
        "import numpy as np\n",
        "import matplotlib.pyplot as plt\n",
        "%matplotlib inline\n",
        "\n",
        "def plot_2d_Gaussian_pdf(means, cov):\n",
        "    n = 100\n",
        "    x1 = np.linspace(means[0] - 3 * np.sqrt(cov[0][0]), means[0] + 3 * np.sqrt(cov[0][0]), n)\n",
        "    x2 = np.linspace(means[1] - 3 * np.sqrt(cov[1][1]), means[1] + 3 * np.sqrt(cov[1][1]), n)\n",
        "    x1_v, x2_v = np.meshgrid(x1, x2)\n",
        "    Xgrid = np.vstack([x1_v.ravel(), x2_v.ravel()]).T\n",
        "    Y = mn.pdf(Xgrid, means, cov)\n",
        "    fig, ax = plt.subplots()\n",
        "    ax.pcolorfast(x1, x2, Y.reshape(x1_v.shape), alpha=0.5, cmap='Blues')\n",
        "    ax.contour(x1_v, x2_v, Y.reshape(x1_v.shape),\n",
        "               levels=[0.05, 0.1, 0.15, 0.2], alpha=0.3, colors='b')\n",
        "    ax.axis('equal')\n",
        "    ax.grid(alpha=0.2)\n",
        "    plt.show()\n",
        "\n",
        "means = [3, 2]\n",
        "cov = [[1, 0.5], [0.5, 0.8]]\n",
        "plot_2d_Gaussian_pdf(means, cov)"
      ]
    },
    {
      "cell_type": "code",
      "execution_count": null,
      "metadata": {
        "id": "2egaz0aUQ56g"
      },
      "outputs": [],
      "source": []
    },
    {
      "cell_type": "markdown",
      "metadata": {
        "id": "qeXbiYKXQ56h"
      },
      "source": [
        "### Question 3 - Heavy Tailed Distributions and the Exponential Distribution (16 points)"
      ]
    },
    {
      "cell_type": "markdown",
      "metadata": {
        "id": "Wfal0GY8Q56h"
      },
      "source": [
        "### Heavy Tailed Distributions\n",
        "\n",
        "Recall the definition of Heavy Tailed distribution from the lectures.\n",
        "\n",
        "*A distribution is said to have a heavy right tail if its tail probabilities vanish slower than any exponential*\n",
        "$$ \\forall t>0, \\lim_{x\\to\\infty} e^{tx}P(X>x)=\\infty $$"
      ]
    },
    {
      "cell_type": "markdown",
      "metadata": {
        "id": "cCTsliQuQ56h"
      },
      "source": [
        "Does the standard log-normal distribution have a heavy right tail? prove your answer."
      ]
    },
    {
      "cell_type": "code",
      "execution_count": null,
      "metadata": {
        "id": "fZw4-nPGQ56h"
      },
      "outputs": [],
      "source": [
        "'''\n",
        "The standard log-normal distribution has a probability density function (PDF) given by:\n",
        "f(x) = 1 / (x * σ * sqrt(2π)) * exp(-(ln(x) - μ)^2 / (2σ^2))\n",
        "\n",
        "where μ and σ are the mean and standard deviation of the underlying normal distribution,\n",
        "and for the standard log-normal, μ = 0 and σ = 1.\n",
        "\n",
        "We want to examine the limit:\n",
        "lim (x→∞)  exp(tx) * P(X > x)\n",
        "where X is a standard log-normal random variable.\n",
        "\n",
        "P(X > x) can be expressed as the integral of the PDF from x to ∞:\n",
        "P(X > x) = ∫[x, ∞] f(u) du\n",
        "\n",
        "Using the approximation for large x, the tail probability P(X>x) of the log-normal distribution is approximately:\n",
        "P(X > x) ≈ 1 / (x * sqrt(2π)) * exp(-(ln(x))^2/2)\n",
        "\n",
        "Therefore the limit we are looking for is:\n",
        "lim (x→∞) exp(tx) * (1 / (x * sqrt(2π))) * exp(-(ln(x))^2 / 2)\n",
        "  = lim (x→∞) (1 / (x * sqrt(2π))) * exp(tx - (ln(x))^2 / 2)\n",
        "\n",
        "Since (ln(x))^2 grows much slower than x as x approaches infinity,\n",
        "the exponential term exp(tx - (ln(x))^2 / 2) will dominate and grow unbounded.\n",
        "This is because the linear term 'tx' will overwhelm the quadratic term '- (ln x)^2 / 2' in the exponent.\n",
        "\n",
        "Thus:\n",
        "lim (x→∞) exp(tx) * P(X > x) = ∞\n",
        "\n",
        "Conclusion:\n",
        "The standard log-normal distribution has a heavy right tail.\n",
        "\n",
        "'''"
      ]
    },
    {
      "cell_type": "markdown",
      "metadata": {
        "id": "Br8uRR5CQ56h"
      },
      "source": [
        "### Special Properties of the Exponential Distribution\n",
        "\n",
        "Let $X_1 \\sim exp(\\lambda_1)$ and $X_2 \\sim exp(\\lambda_2)$ be two independent exponential random variables.\n",
        "\n",
        "Calculate $P(X_1 < X_2)$."
      ]
    },
    {
      "cell_type": "code",
      "execution_count": null,
      "metadata": {
        "id": "Jyixe36DQ56h"
      },
      "outputs": [],
      "source": [
        "'''\n",
        "\n",
        "Calculate P(X1 < X2)\n",
        "P(X1 < X2) = ∫∫[0,∞) I(x1 < x2) * f(x1) * f(x2) dx1 dx2\n",
        "where I(x1 < x2) is an indicator function that equals 1 if x1 < x2 and 0 otherwise,\n",
        "f(x1), f(x2) are the probability density functions of X1 and X2 respectively.\n",
        "\n",
        "f(x1) = λ1 * exp(-λ1 * x1)\n",
        "f(x2) = λ2 * exp(-λ2 * x2)\n",
        "\n",
        "P(X1 < X2) = ∫[0,∞) [∫[0,x2] λ1 * exp(-λ1 * x1) * λ2 * exp(-λ2 * x2) dx1] dx2\n",
        "           = ∫[0,∞)   [∫[0,x2] λ1 * exp(-λ1 * x1) dx1 ]     * λ2 * exp(-λ2 * x2)] dx2\n",
        "\n",
        "First:\n",
        "∫[0,x2] λ1 * exp(-λ1 * x1) dx1 = [-exp(-λ1 * x1)][0, x2] = 1 - exp(-λ1 * x2)\n",
        "\n",
        "Second:\n",
        "P(X1 < X2) = ∫[0,∞) λ2 * exp(-λ2 * x2) * (1 - exp(-λ1 * x2)) dx2\n",
        "           = ∫[0,∞) λ2 * exp(-λ2 * x2) dx2 - ∫[0,∞) λ2 * exp(-(λ1 + λ2) * x2) dx2\n",
        "           = [ -exp(-λ2 * x2) ][0, ∞) - [ -exp(-(λ1 + λ2) * x2) / (λ1 + λ2) ][0, ∞)\n",
        "           = 1 - λ2 / (λ1 + λ2)\n",
        "           = λ1 / (λ1 + λ2)\n",
        "'''"
      ]
    },
    {
      "cell_type": "markdown",
      "metadata": {
        "id": "NYJqMB3mQ56h"
      },
      "source": [
        "### Question 4 - CLT for Markov chains (16 points)"
      ]
    },
    {
      "cell_type": "markdown",
      "metadata": {
        "id": "rLMAvLTmQ56h"
      },
      "source": [
        "In this exercise you will construct trajectories of Markovian dice rolling results in the following way.<br>\n",
        "The first roll, X0, is Unif(1..6)<br>\n",
        "After i rolls are determined the i+1st, Xi+1, is drawn according to the row that corresponds to the value of Xi in the matrix T below. <br>\n",
        "In other words, T is the transition matrix of a Markov chain and the initial distribution is uniform.\n",
        "\n",
        "\\begin{equation*}\n",
        "T =\n",
        "\\begin{pmatrix}\n",
        "0.4 & 0.2 & 0.1 & 0 & 0.1 & 0.2 \\\\\n",
        "0.2 & 0.4 & 0.2 & 0.1 & 0 & 0.1 \\\\\n",
        "0.1 & 0.2 & 0.4 & 0.2 & 0.1 & 0 \\\\\n",
        "0 & 0.1 & 0.2 & 0.4 & 0.2 & 0.1 \\\\\n",
        "0.1 & 0 & 0.1 & 0.2 & 0.4 & 0.2 \\\\\n",
        "0.2 & 0.1 & 0 & 0.1 & 0.2 & 0.4\n",
        "\\end{pmatrix}\n",
        "\\end{equation*}"
      ]
    },
    {
      "cell_type": "markdown",
      "metadata": {
        "id": "zENRU_WVQ56h"
      },
      "source": [
        "#### 4.A\n",
        "Construct 1000 trajectories, each of length 30.\n",
        "1. What do you expect the average value of all 30 numbers in a trajectory to be?\n",
        "2. Compute the average value of each such trajectory. Draw a histogram of the 1000 numbers you received, using 20 bins.\n",
        "3. What does the distribution look like? What are the empirical mean and the std?"
      ]
    },
    {
      "cell_type": "code",
      "execution_count": null,
      "metadata": {
        "id": "AXRC8w-xQ56h"
      },
      "outputs": [],
      "source": []
    },
    {
      "cell_type": "markdown",
      "metadata": {
        "id": "5jeUYQ_-Q56h"
      },
      "source": [
        "##### 4.B\n",
        "Construct 1000 trajectories, each of length 500.\n",
        "1. What do you expect the average value of all 500 numbers in a trajectory to be?\n",
        "2. Compute the average value of each such trajectory. Draw a histogram of the 1000 numbers you received, using 20 bins.\n",
        "3. What does the distribution look like? What are the empirical mean and the std?"
      ]
    },
    {
      "cell_type": "code",
      "execution_count": null,
      "metadata": {
        "id": "P71LyS5CQ56h"
      },
      "outputs": [],
      "source": []
    },
    {
      "cell_type": "markdown",
      "metadata": {
        "id": "3JWpjQvJQ56h"
      },
      "source": [
        "#### 4.C\n",
        "Draw normal fit curves on your two histograms."
      ]
    },
    {
      "cell_type": "code",
      "execution_count": null,
      "metadata": {
        "id": "S-NnoGYuQ56h"
      },
      "outputs": [],
      "source": []
    },
    {
      "cell_type": "markdown",
      "metadata": {
        "id": "AOIvCXwbQ56i"
      },
      "source": [
        "#### 4.D\n",
        "Write a python code to calculate $Cov(X_0,X_i)$ for $i=1,..,500$ based on $\\pi_0$ and $T$.\n",
        "\n",
        "Compute the values for our case."
      ]
    },
    {
      "cell_type": "code",
      "execution_count": null,
      "metadata": {
        "id": "gcWf2mpBQ56i"
      },
      "outputs": [],
      "source": []
    },
    {
      "cell_type": "markdown",
      "metadata": {
        "id": "tlssPI2FQ56i"
      },
      "source": [
        "### Question 5 - Distributions (16 Points)\n",
        "\n",
        "Let $X$ be a random variable. Consider the number $q$ so that $P(X\\le q)=0.8$ (assume that such a value exists).\n",
        "\n",
        "Consider a sample $\\vec{x}(n) = x_1,...,x_n$ sampled independently from $X$. Denote the sorted observations by: $a_1 \\le a_2 \\le ... \\le a_n$. Also assume that $n \\ge 100$.\n",
        "\n",
        "Let $R(\\vec{x}(n))$ be the largest index $i \\in {1,...,n}$ such that $a_i \\le q$. If $a_1 > q$ then $R = 0$.\n",
        "\n",
        "1. What is $P(R = 0)$?\n",
        "1. What is the distribution of $R$?\n",
        "1. Given $n$, write code that computes an index $\\lambda (n)$ so that $P(a_{\\lambda (n)} \\le q) \\ge 0.9$ and $P(a_{\\lambda (n)+1} \\le q) < 0.9$.\n",
        "1. Let $X \\sim Unif(0,1)$, $q$ as above and $n=100$. Compute $\\lambda (n)$ as above. Run 200 experiments that calculate $a_{\\lambda (n)}$ for independent drawing from $X$. How many times did you observe $a_{\\lambda (n)} \\le q$?"
      ]
    },
    {
      "cell_type": "code",
      "source": [
        "'''\n",
        "question 5.1. What is P(R = 0)?\n",
        "\n",
        "P(R = 0) is the probability that all observations are greater than q\n",
        "Since the observations are assumed  independent,\n",
        "    P(R = 0) = ∑i  P(X_i > q) = P(X_1 > q)^n = (1 - P(X_1 <= q))^n = (1 - 0.8)^n = 0.2^n\n",
        "\n",
        "Then P(R=0)=0.2^n\n",
        "\n",
        "'''"
      ],
      "metadata": {
        "id": "1_UxqeD1138h"
      },
      "execution_count": null,
      "outputs": []
    },
    {
      "cell_type": "code",
      "source": [
        "'''\n",
        "question 5.2. What is the distribution of R?\n",
        "\n",
        "R follows a binomial distribution with parameters n and p = P(X <= q) = 0.8\n",
        "\n",
        "However, since R is defined as the largest index where a_i <= q, we can find P(R=k).\n",
        "R=k means that a_k <= q and a_k+1 > q\n",
        "This corresponds to k observations <= q and n-k > q\n",
        "R has a distribution like to the binomial distribution\n",
        "\n",
        "'''"
      ],
      "metadata": {
        "id": "3XHSuuiA2f8a"
      },
      "execution_count": null,
      "outputs": []
    },
    {
      "cell_type": "code",
      "source": [
        "#question 5.3. Given n, compute lambda(n) such that P(a_lambda(n) <= q) >= 0.9 and P(a_lambda(n)+1 <= q) < 0.9\n",
        "\n",
        "def index_lambda(n):\n",
        "    # For uniform distribution, a_i follows a Beta distribution (i,n-i+1)\n",
        "    # Find lambda such that P(a_lambda <= q) >= 0.9 and P(a_lambda+1 <= q) < 0.9\n",
        "    # For X ~ Unif(0,1), q = 0.8\n",
        "\n",
        "    q = 0.8\n",
        "    for l in range(1,n+1):\n",
        "        prob = l/n\n",
        "        if prob >= q:\n",
        "          return l\n"
      ],
      "metadata": {
        "id": "T1ceSyKf2-jH"
      },
      "execution_count": 50,
      "outputs": []
    },
    {
      "cell_type": "code",
      "execution_count": 58,
      "metadata": {
        "colab": {
          "base_uri": "https://localhost:8080/"
        },
        "id": "SJunWWUXQ56i",
        "outputId": "2d020b9d-2d17-4a03-c3dd-377286caddd4"
      },
      "outputs": [
        {
          "output_type": "stream",
          "name": "stdout",
          "text": [
            "Lambda(100) = 80\n",
            "Number of times 𝑎𝜆(𝑛)≤𝑞 observed: 117 out of 200\n",
            "Observed probability of 𝑎𝜆(𝑛)≤𝑞: 0.585\n"
          ]
        }
      ],
      "source": [
        "# question 5.4. Let X ~ Unif(0,1), q as above and n=100.\n",
        "# calculate  𝑎𝜆(𝑛)  for independent drawing from  𝑋 . How many times did you observe  𝑎𝜆(𝑛)≤𝑞 ?\n",
        "\n",
        "n = 100\n",
        "lambda_n = index_lambda(n)\n",
        "print(f\"Lambda({n}) = {lambda_n}\")\n",
        "\n",
        "cpt = 0\n",
        "for _ in range(200):\n",
        "    x = np.random.uniform(0, 1, n)  # Sample n values from the uniform distribution\n",
        "    a = np.sort(x)\n",
        "    if a[lambda_n-1] <= 0.8:\n",
        "        cpt += 1\n",
        "\n",
        "print(f\"Number of times 𝑎𝜆(𝑛)≤𝑞 observed: {cpt} out of {200}\")\n",
        "#print(f\"Observed probability of 𝑎𝜆(𝑛)≤𝑞: {cpt/200}\")"
      ]
    }
  ],
  "metadata": {
    "kernelspec": {
      "display_name": "Python 3",
      "language": "python",
      "name": "python3"
    },
    "language_info": {
      "codemirror_mode": {
        "name": "ipython",
        "version": 3
      },
      "file_extension": ".py",
      "mimetype": "text/x-python",
      "name": "python",
      "nbconvert_exporter": "python",
      "pygments_lexer": "ipython3",
      "version": "3.7.7"
    },
    "colab": {
      "provenance": []
    }
  },
  "nbformat": 4,
  "nbformat_minor": 0
}